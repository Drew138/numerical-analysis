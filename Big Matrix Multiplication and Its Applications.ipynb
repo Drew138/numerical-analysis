{
 "cells": [
  {
   "cell_type": "markdown",
   "id": "cardiac-novelty",
   "metadata": {},
   "source": [
    "# Big Matrix Multiplication and Its Applications"
   ]
  },
  {
   "cell_type": "markdown",
   "id": "varied-recommendation",
   "metadata": {},
   "source": [
    "## Introduction\n",
    "\n",
    "\n",
    "This paper will be focused around matrix multiplication methods, going from some of the classic, less efficient algorithms, \n",
    "to the most recent and promissing ones. In addition, their implementations, pros and cons will be analyzed. Concluding with some of their applications."
   ]
  },
  {
   "cell_type": "markdown",
   "id": "naughty-unknown",
   "metadata": {},
   "source": [
    "## Traditional Method\n",
    "\n",
    "The traditional method consists of simply multiplying each element of a row with its corresponding index of a given column. This cumulative yields the values for the ith row, and jth column as shown below.\n",
    "\n",
    "<img align=\"left\" width=\"700px\" src=\"assets/matrix_multiplications.png\">"
   ]
  },
  {
   "cell_type": "code",
   "execution_count": 1,
   "id": "metallic-israel",
   "metadata": {},
   "outputs": [],
   "source": [
    "def traditional(matrix_one, matrix_two):\n",
    "    if len(matrix_one[0]) != len(matrix_two):\n",
    "        raise Exception(\"Matrix_one row size doesn't coincide with matrix_two column size\")\n",
    "    answer = [[0 for _ in range(len(matrix_one[0]))] * len(matrix_two)]\n",
    "    for i in range(matrix_one[0]):\n",
    "        for j in range(matrix_two):\n",
    "            for k in range(len(matrix_one[0])):\n",
    "                answer[i][j] += matrix_one[i][k] * matrix_two[k][j]\n",
    "    return answer\n"
   ]
  },
  {
   "cell_type": "markdown",
   "id": "apart-greenhouse",
   "metadata": {},
   "source": [
    "## Helper Functions Used Across All the Methods"
   ]
  },
  {
   "cell_type": "code",
   "execution_count": 1,
   "id": "intended-region",
   "metadata": {},
   "outputs": [],
   "source": [
    "import time\n",
    "\n",
    "def recordTime(y_axis, x_axis, func, *args, **kwargs):\n",
    "    initial = time.now()\n",
    "    func(*args, **kwargs)\n",
    "    total = time.now() - initial\n",
    "    \n",
    "def generateMatrixes():\n",
    "    pass\n",
    "    \n",
    "    \n"
   ]
  },
  {
   "cell_type": "markdown",
   "id": "reasonable-correspondence",
   "metadata": {},
   "source": [
    "## Strassens Matrix Multiplication"
   ]
  },
  {
   "cell_type": "code",
   "execution_count": null,
   "id": "persistent-reggae",
   "metadata": {},
   "outputs": [],
   "source": []
  }
 ],
 "metadata": {
  "kernelspec": {
   "display_name": "Python 3",
   "language": "python",
   "name": "python3"
  },
  "language_info": {
   "codemirror_mode": {
    "name": "ipython",
    "version": 3
   },
   "file_extension": ".py",
   "mimetype": "text/x-python",
   "name": "python",
   "nbconvert_exporter": "python",
   "pygments_lexer": "ipython3",
   "version": "3.9.1"
  }
 },
 "nbformat": 4,
 "nbformat_minor": 5
}
