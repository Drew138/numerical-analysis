{
 "cells": [
  {
   "cell_type": "markdown",
   "id": "cardiac-novelty",
   "metadata": {},
   "source": [
    "# Matrix Multplication Algorithms Analysis"
   ]
  },
  {
   "cell_type": "markdown",
   "id": "coastal-seeker",
   "metadata": {},
   "source": [
    "# Abstract"
   ]
  },
  {
   "cell_type": "code",
   "execution_count": null,
   "id": "medium-domestic",
   "metadata": {},
   "outputs": [],
   "source": []
  },
  {
   "cell_type": "markdown",
   "id": "immune-savage",
   "metadata": {},
   "source": [
    "# Table of Contents\n",
    "\n",
    "1. [Abstract](#Abstract)\n",
    "2. [Introduction](#Introduction)\n",
    "3. [Objectives](#Objectives)\n",
    "4. [Algorithms](#Algorithms)\n",
    "    1. [Naive Method](#naive)\n",
    "    2. [Strassen's Method](#strassen)\n",
    "    3. [Dictionary Of Keys Representation Method](#DOK)\n",
    "5. [Programming Languages](#languages)\n",
    "6. [Benchmarks](#Benchmarks)\n",
    "    1. [Matrices](#matrices)\n",
    "    2. [Recordings](#recordings)\n",
    "    3. [Analysis](#analysis)\n",
    "7. [Conclusions](#Conclusions)\n",
    "8. [Bibliography](#Bibliography)"
   ]
  },
  {
   "cell_type": "markdown",
   "id": "taken-anatomy",
   "metadata": {},
   "source": [
    "# Introduction\n",
    "\n",
    "Given two matrices $A$ and $B$, each with $n$ rows and columns. Matrix multiplication is defined as the result of the dot product of every $ith$ row of matrix $A$ by each $jth$ column of matrix $B$. This operation yields a new matrix of $n^2$ dimmensions, where the $ijth$ position contains the product of the computations previously described.\n",
    "\n",
    "**Common use cases for this kind of operation are:**\n",
    "\n",
    "* Solving systems of linear equations.\n",
    "* Solving intricate graph problems.\n",
    "* Representing the logic gates applied in a quantum system.\n",
    "* Applying rotations to projected objects in a 3D plane (Computer Graphics).\n",
    "\n",
    "**Among many others.**\n",
    "\n",
    "Despite being an extremely useful operation, it regretably can not be used in every desired scenario.<br/> \n",
    "Due to the nature of the operations required to calculate the resulting matrix. Cases where we deal with matrixes of great dimmensions rapidly become unfeasible, leaving a vast amount of problems unsolved. For this reason, it is always important to use efficient methods when dealing with great ammounts of data.\n",
    "\n",
    "Merely reading, and writing operations of matrices take $O(n^2)$ time and space, setting a hard cap of $O(n^2)$ for any implementation of an algorithm aiming to do matrix multiplication. Nonetheless, in reality it is much worse, since time complexities for most algorithms range from approximately $O(n^{2.5})$ to $O(n^3)$. Because of this some algorithms also try to leverage parallelism in order speed up operations. However, improvements in performance do not increase a lot from there.\n",
    "\n",
    "In this paper we will be analyzing various matrix multiplication algorithms, the logic behind them, and their performance in benchmarks using various programming languages."
   ]
  },
  {
   "cell_type": "markdown",
   "id": "surrounded-punishment",
   "metadata": {},
   "source": [
    "# Objectives"
   ]
  },
  {
   "cell_type": "markdown",
   "id": "positive-algorithm",
   "metadata": {},
   "source": [
    "* Describe the pros and cons of each matrix multiplication method.\n",
    "* Compare the performance of each algorithm given an increase in the input size."
   ]
  },
  {
   "cell_type": "markdown",
   "id": "welcome-signal",
   "metadata": {},
   "source": [
    "# Algorithms"
   ]
  },
  {
   "cell_type": "markdown",
   "id": "federal-newspaper",
   "metadata": {},
   "source": [
    "Matrix multiplication have several implementations, some being more favorable certain problems, others being applicable to only certain types of matrices. For the purpose of narrowing down our analysis, we will be focusing on three specific algorithms: \n",
    "\n",
    "1. Naive Algorithm.\n",
    "2. Strassens Algorithm.\n",
    "3. Dictionary Of Keys Representation.\n",
    "\n",
    "While there are plenty of other algorithms that could arguably achieve a better performance than these, they were not selected because they were either theoretical algorithms, or too intricate to be analyzed in this paper.\n",
    "\n",
    "In the following section we will be display a brief overview of each of the selected algorithms."
   ]
  },
  {
   "cell_type": "markdown",
   "id": "exclusive-dayton",
   "metadata": {},
   "source": [
    "## Naive Method <a name=\"naive\"/>"
   ]
  },
  {
   "cell_type": "markdown",
   "id": "naughty-unknown",
   "metadata": {},
   "source": [
    "Probably the simplest among all multiplication algorithms. It performs the inner product of each row by each column without any optimizations or caches. For square matrices, it's time complexity is considered to be $O(n^3)$.  \n",
    "\n",
    "**Pseudo Code:**<br/>\n",
    "<img align=\"center\" width=\"600px\" src=\"assets/naive_pseudocode.png\"/>\n",
    "<br/>**Pros:**<br/>\n",
    "- Algorithm is easy to understand and implement.\n",
    "\n",
    "\n",
    "<br/>**Cons:**<br/>\n",
    "- $O(n^3)$ time complexity which hinders this algorithm's ability to compute big matrices.\n",
    "\n",
    "\n",
    "**Another visualization for this algorithm is the following:<br/>**\n",
    "<img align=\"center\" width=\"700px\" src=\"assets/matrix_multiplications.png\"/>\n",
    "\n",
    "Where $c1 = a1*b1 + a2*b4 + a3*b7$.\n",
    "\n",
    "\n"
   ]
  },
  {
   "cell_type": "markdown",
   "id": "architectural-helmet",
   "metadata": {},
   "source": [
    "## Strassen's Method <a name=\"strassen\"/>"
   ]
  },
  {
   "cell_type": "markdown",
   "id": "foreign-cooling",
   "metadata": {},
   "source": [
    "Strassen's algorithm provides an optimization over the naive method by applying various strategies commonly known as dynamic programming, divide and conquer, and recursion. It is important to note that simply using divide and conquer will not improve the performance of this algorithm over the naive method. It is the combination of all these methods which allows to reuse previously computed values.\n",
    "\n",
    "Using a recursive diving and conquer approach where A, B and C are square matrices, and a, b, c, d, e, f, g, h are submatrices, requires eight recursive calls as shown below: \n",
    "\n",
    "<img src=\"assets/naive_divide_and_conquer.png\">\n",
    "where $ae, bg, af, bh, ce, dg, cf, dh$ represent a recursive call. Each of this involving a submatrix multiplication\n",
    "\n",
    "On the other hand, strassens strives for seven recursion calls by applying the following scheme:\n",
    "\n",
    "<img src=\"assets/strassens_algorithm.png\">\n",
    "\n",
    "where $p1$ to $p7$ represent a recursive call involving the opperations shown above.\n",
    "\n",
    "<br/>**Pros:**<br/>\n",
    "- $O(n^{log7})$ time complexity which is slightly better than cubic complexity.\n",
    "\n",
    "\n",
    "<br/>**Cons:**<br/>\n",
    "- Submatrices in recursion take additional space.\n",
    "- Larger errors accumulate using this method due to limited precision of computations.\n",
    "- This algorithm can only be applied to square matrices.\n"
   ]
  },
  {
   "cell_type": "markdown",
   "id": "saved-probability",
   "metadata": {},
   "source": [
    "## Dictionary Of Keys (DOK) Representation Method <a name=\"DOK\"/>"
   ]
  },
  {
   "cell_type": "markdown",
   "id": "driving-celtic",
   "metadata": {},
   "source": [
    "Dictionary of keys representation allows an optimization of the naive method. It is especially useful for sparse matrices where the number of non-zero elements is relatively low when compared to number of total elements in the matrix.\n",
    "\n",
    "**Example Dictionary of Keys(DOK) representation:**\n",
    "<img src=\"./assets/sparse_matrix.png\">\n",
    "\n",
    "\n",
    "Instead of iterating over every index of a matrix, it iterates over the indexes and values of the dictionary representatiom.\n",
    "For sparse matrices, this reduces time complexity from $O(n^3)$ to $O(n^2)$ and space complexity from $O(n^2)$ to $O(n)$. The reason behind this is that computations involving zero values are disregarded altogether."
   ]
  },
  {
   "cell_type": "markdown",
   "id": "graphic-wealth",
   "metadata": {},
   "source": [
    "# Programming Languages <a name=\"languages\"/>"
   ]
  },
  {
   "cell_type": "markdown",
   "id": "fiscal-evaluation",
   "metadata": {},
   "source": [
    "For the purpose of avoiding biases, and having a more broad perspective, we've chosen to run all of these algorithms in three different programming languages: **C++, Python, and Julia**. This will allow us to make a more accurate analysis after all of the benchmarks have been recorded."
   ]
  },
  {
   "cell_type": "markdown",
   "id": "reasonable-brain",
   "metadata": {},
   "source": [
    "# Benchmarks"
   ]
  },
  {
   "cell_type": "markdown",
   "id": "neutral-middle",
   "metadata": {},
   "source": [
    "## Matrices <a name=\"matrices\"/>"
   ]
  },
  {
   "cell_type": "markdown",
   "id": "photographic-holocaust",
   "metadata": {},
   "source": [
    "All of the matrices used in this paper were taken from [https://sparse.tamu.edu/](https://sparse.tamu.edu/) in a .mtx format. Due to the constraints of strassens algorithm only square matrices with side $n = 2^k$ where $k \\in N$.\n",
    "\n",
    "They can be found in the ./matrices/ directory, and are described as follows:\n",
    "\n",
    "| File | Number of rows and columns | Number of non-zero elements |\n",
    "|---|---|---|\n",
    "| Hamrle1.mtx | 32  | 98 |\n",
    "| GD99_b.mtx | 64 | 252 |\n",
    "| can_256.mtx | 256 | 2916 |\n",
    "| dwa512.mtx | 512 | 2480 |\n",
    "| delaunay_n10.mtx | 1024 | 6112 |\n",
    "\n",
    "\n",
    "Matrix sizes ranging from $2^5$ to $2^{10}$ were chosen when selecting to matrices in order to observe how execution times increase when running our benchmarks. Bigger sizes were not selected as these problems quickly become slow to compute. Thus, it is unfeasible to process them because we established that each algorithm must be run multiple times for each matrix. Similarly, number of non-zero elements range from 98 to 6112. "
   ]
  },
  {
   "cell_type": "markdown",
   "id": "potential-leader",
   "metadata": {},
   "source": [
    "## Recordings <a name=\"recordings\"/>"
   ]
  },
  {
   "cell_type": "markdown",
   "id": "rough-summary",
   "metadata": {},
   "source": [
    "In order to facilitate the analysis of data, we've decided to track all of our benchmarks in the benchmarks.csv file. Each of the algorithm's implementations will write to this file for every matrix multiplication mentioned above 5 times. This in turn will give us an average which will be a good representation of how each algorithm performs in each situation."
   ]
  },
  {
   "cell_type": "markdown",
   "id": "tutorial-capitol",
   "metadata": {},
   "source": [
    "## Analysis <a name=\"analysis\"/>"
   ]
  },
  {
   "cell_type": "markdown",
   "id": "peripheral-beijing",
   "metadata": {},
   "source": [
    "Initially, we start by loading our benchmark times recorded by our implementations in cpp, python and julia. For the purpose of filtering and analyzing the data we'll be using pandas. As a first step we will filter by programming language, and by matrix."
   ]
  },
  {
   "cell_type": "code",
   "execution_count": 7,
   "id": "sudden-acquisition",
   "metadata": {},
   "outputs": [],
   "source": [
    "import pandas as pd\n",
    "# load data from benchmarks.csv\n",
    "dataframe = pd.read_csv(\"benchmarks.csv\")\n",
    "cpp_measurements = dataframe[dataframe[\"language\"] == \"cpp\"]\n",
    "python_measurements = dataframe[dataframe[\"language\"] == \"python\"]\n",
    "julia_measurements = dataframe[dataframe[\"language\"] == \"julia\"]\n",
    "# python_measurements\n",
    "python_measurements_Hamrle1 = python_measurements[python_measurements[\"matrix\"] == \"Hamrle1.mtx\"]\n",
    "python_measurements_GD99_b = python_measurements[python_measurements[\"matrix\"] == \"GD99_b.mtx\"]\n",
    "python_measurements_can_256 = python_measurements[python_measurements[\"matrix\"] == \"can_256.mtx\"]\n",
    "python_measurements_dwa512 = python_measurements[python_measurements[\"matrix\"] == \"dwa512.mtx\"]\n",
    "python_measurements_delaunay_n10 = python_measurements[python_measurements[\"matrix\"] == \"delaunay_n10.mtx\"]\n",
    "# cpp_measurements\n",
    "cpp_measurements_Hamrle1 = cpp_measurements[cpp_measurements[\"matrix\"] == \"Hamrle1.mtx\"]\n",
    "cpp_measurements_GD99_b = cpp_measurements[cpp_measurements[\"matrix\"] == \"GD99_b.mtx\"]\n",
    "cpp_measurements_can_256 = cpp_measurements[cpp_measurements[\"matrix\"] == \"can_256.mtx\"]\n",
    "cpp_measurements_dwa512 = cpp_measurements[cpp_measurements[\"matrix\"] == \"dwa512.mtx\"]\n",
    "cpp_measurements_delaunay_n10 = cpp_measurements[cpp_measurements[\"matrix\"] == \"delaunay_n10.mtx\"]\n",
    "# julia_measurements\n",
    "julia_measurements_Hamrle1 = julia_measurements[julia_measurements[\"matrix\"] == \"Hamrle1.mtx\"]\n",
    "julia_measurements_GD99_b = julia_measurements[julia_measurements[\"matrix\"] == \"GD99_b.mtx\"]\n",
    "julia_measurements_can_256 = julia_measurements[julia_measurements[\"matrix\"] == \"can_256.mtx\"]\n",
    "julia_measurements_dwa512 = julia_measurements[julia_measurements[\"matrix\"] == \"dwa512.mtx\"]\n",
    "julia_measurements_delaunay_n10 = julia_measurements[julia_measurements[\"matrix\"] == \"delaunay_n10.mtx\"]"
   ]
  },
  {
   "cell_type": "markdown",
   "id": "adapted-integral",
   "metadata": {},
   "source": [
    "As mentioned above, each algorithm was recorded 5 times per matrix, per programming language. Our next step from here is discriminate each dataframe by the algorithm implemented in each case."
   ]
  },
  {
   "cell_type": "code",
   "execution_count": 12,
   "id": "exciting-dragon",
   "metadata": {},
   "outputs": [
    {
     "data": {
      "text/plain": [
       "['cpp', 'sparse', 'Hamrle1.mtx', 32, 0.0]"
      ]
     },
     "execution_count": 12,
     "metadata": {},
     "output_type": "execute_result"
    }
   ],
   "source": [
    "# python_measurements\n",
    "python_measurements_Hamrle1_naive = python_measurements_Hamrle1[python_measurements_Hamrle1[\"algorithm\"] == \"naive\"]\n",
    "python_measurements_Hamrle1_strassen = python_measurements_Hamrle1[python_measurements_Hamrle1[\"algorithm\"] == \"strassen\"]\n",
    "python_measurements_Hamrle1_sparse = python_measurements_Hamrle1[python_measurements_Hamrle1[\"algorithm\"] == \"sparse\"]\n",
    "\n",
    "\n",
    "python_measurements_GD99_b_naive = python_measurements_GD99_b[python_measurements_GD99_b[\"algorithm\"] == \"naive\"]\n",
    "python_measurements_GD99_b_strassen = python_measurements_GD99_b[python_measurements_GD99_b[\"algorithm\"] == \"strassen\"]\n",
    "python_measurements_GD99_b_sparse = python_measurements_GD99_b[python_measurements[\"algorithm\"] == \"sparse\"]\n",
    "\n",
    "\n",
    "python_measurements_can_256_naive = python_measurements_can_256[python_measurements_can_256[\"algorithm\"] == \"naive\"]\n",
    "python_measurements_can_256_strassen = python_measurements_can_256[python_measurements_can_256[\"algorithm\"] == \"strassen\"]\n",
    "python_measurements_can_256_sparse = python_measurements_can_256[python_measurements_can_256[\"algorithm\"] == \"sparse\"]\n",
    "\n",
    "\n",
    "python_measurements_dwa512_naive = python_measurements_dwa512[python_measurements_dwa512[\"algorithm\"] == \"naive\"]\n",
    "python_measurements_dwa512_strassen = python_measurements_dwa512[python_measurements_dwa512[\"algorithm\"] == \"strassen\"]\n",
    "python_measurements_dwa512_sparse = python_measurements_dwa512[python_measurements_dwa512[\"algorithm\"] == \"sparse\"]\n",
    "\n",
    "\n",
    "python_measurements_delaunay_n10_naive = python_measurements_delaunay_n10[python_measurements_delaunay_n10[\"algorithm\"] == \"naive\"]\n",
    "python_measurements_delaunay_n10_strassen = python_measurements_delaunay_n10[python_measurements_delaunay_n10[\"algorithm\"] == \"strassen\"]\n",
    "python_measurements_delaunay_n10_sparse = python_measurements_delaunay_n10[python_measurements_delaunay_n10[\"algorithm\"] == \"sparse\"]\n",
    "\n",
    "\n",
    "# cpp_measurements\n",
    "cpp_measurements_Hamrle1_naive = cpp_measurements_Hamrle1[cpp_measurements_Hamrle1[\"algorithm\"] == \"naive\"]\n",
    "cpp_measurements_Hamrle1_strassen = cpp_measurements_Hamrle1[cpp_measurements_Hamrle1[\"algorithm\"] == \"strassen\"]\n",
    "cpp_measurements_Hamrle1_sparse = cpp_measurements_Hamrle1[cpp_measurements_Hamrle1[\"algorithm\"] == \"sparse\"]\n",
    "\n",
    "\n",
    "\n",
    "cpp_measurements_GD99_b_naive = cpp_measurements_GD99_b[cpp_measurements_GD99_b[\"algorithm\"] == \"naive\"]\n",
    "cpp_measurements_GD99_b_strassen = cpp_measurements_GD99_b[cpp_measurements_GD99_b[\"algorithm\"] == \"strassen\"]\n",
    "cpp_measurements_GD99_b_sparse = cpp_measurements_GD99_b[cpp_measurements_GD99_b[\"algorithm\"] == \"sparse\"]\n",
    "\n",
    "\n",
    "cpp_measurements_can_256_naive = cpp_measurements_can_256[cpp_measurements_can_256[\"algorithm\"] == \"naive\"]\n",
    "cpp_measurements_can_256_strassen = cpp_measurements_can_256[cpp_measurements_can_256[\"algorithm\"] == \"strassen\"]\n",
    "cpp_measurements_can_256_sparse = cpp_measurements_can_256[cpp_measurements_can_256[\"algorithm\"] == \"sparse\"]\n",
    "\n",
    "\n",
    "\n",
    "cpp_measurements_dwa512_naive = cpp_measurements_dwa512[cpp_measurements_dwa512[\"algorithm\"] == \"naive\"]\n",
    "cpp_measurements_dwa512_strassen = cpp_measurements_dwa512[cpp_measurements_dwa512[\"algorithm\"] == \"strassen\"]\n",
    "cpp_measurements_dwa512_sparse = cpp_measurements_dwa512[cpp_measurements_dwa512[\"algorithm\"] == \"sparse\"]\n",
    "\n",
    "\n",
    "cpp_measurements_delaunay_n10_naive = cpp_measurements_delaunay_n10[cpp_measurements_delaunay_n10[\"algorithm\"] == \"naive\"]\n",
    "cpp_measurements_delaunay_n10_strassen = cpp_measurements_delaunay_n10[cpp_measurements_delaunay_n10[\"algorithm\"] == \"strassen\"]\n",
    "cpp_measurements_delaunay_n10_sparse = cpp_measurements_delaunay_n10[cpp_measurements_delaunay_n10[\"algorithm\"] == \"sparse\"]\n",
    "\n",
    "\n",
    "# julia_measurements\n",
    "julia_measurements_Hamrle1_naive = julia_measurements_Hamrle1[julia_measurements_Hamrle1[\"algorithm\"] == \"naive\"]\n",
    "julia_measurements_Hamrle1_strassen = julia_measurements_Hamrle1[julia_measurements_Hamrle1[\"algorithm\"] == \"strassen\"]\n",
    "julia_measurements_Hamrle1_sparse = julia_measurements_Hamrle1[julia_measurements_Hamrle1[\"algorithm\"] == \"sparse\"]\n",
    "\n",
    "\n",
    "julia_measurements_GD99_b_naive = julia_measurements_GD99_b[julia_measurements_GD99_b[\"algorithm\"] == \"naive\"]\n",
    "julia_measurements_GD99_b_strassen = julia_measurements_GD99_b[julia_measurements_GD99_b[\"algorithm\"] == \"strassen\"]\n",
    "julia_measurements_GD99_b_sparse = julia_measurements_GD99_b[julia_measurements_GD99_b[\"algorithm\"] == \"sparse\"]\n",
    "\n",
    "\n",
    "\n",
    "julia_measurements_can_256_naive = julia_measurements_can_256[julia_measurements_can_256[\"algorithm\"] == \"naive\"]\n",
    "julia_measurements_can_256_strassen = julia_measurements_can_256[julia_measurements_can_256[\"algorithm\"] == \"strassen\"]\n",
    "julia_measurements_can_256_sparse = julia_measurements_can_256[julia_measurements_can_256[\"algorithm\"] == \"sparse\"]\n",
    "\n",
    "\n",
    "julia_measurements_dwa512_naive = julia_measurements_dwa512[julia_measurements_dwa512[\"algorithm\"] == \"naive\"]\n",
    "julia_measurements_dwa512_strassen = julia_measurements_dwa512[julia_measurements_dwa512[\"algorithm\"] == \"strassen\"]\n",
    "julia_measurements_dwa512_sparse = julia_measurements_dwa512[julia_measurements_dwa512[\"algorithm\"] == \"sparse\"]\n",
    "\n",
    "\n",
    "julia_measurements_delaunay_n10_naive = julia_measurements_delaunay_n10[julia_measurements_delaunay_n10[\"algorithm\"] == \"naive\"]\n",
    "julia_measurements_delaunay_n10_strassen = julia_measurements_delaunay_n10[julia_measurements_delaunay_n10[\"algorithm\"] == \"strassen\"]\n",
    "julia_measurements_delaunay_n10_sparse = julia_measurements_delaunay_n10[julia_measurements_delaunay_n10[\"algorithm\"] == \"sparse\"]"
   ]
  },
  {
   "cell_type": "markdown",
   "id": "concerned-harrison",
   "metadata": {},
   "source": [
    "As mentioned above, each algorithm was recorded 5 times per matrix, per programming language. Consequently, we want to reduce these recordings to an average time in each case."
   ]
  },
  {
   "cell_type": "code",
   "execution_count": null,
   "id": "middle-museum",
   "metadata": {},
   "outputs": [],
   "source": [
    "columns = dataframe.columns\n",
    "# python_measurements\n",
    "# python_measurements_Hamrle1 = pd.DataFrame(, columns=columns)\n",
    "python_measurements_Hamrle1_naive = python_measurements_Hamrle1[python_measurements_Hamrle1[\"algorithm\"] == \"naive\"]\n",
    "python_measurements_Hamrle1_strassen = python_measurements_Hamrle1[python_measurements_Hamrle1[\"algorithm\"] == \"strassen\"]\n",
    "python_measurements_Hamrle1_sparse = python_measurements_Hamrle1[python_measurements_Hamrle1[\"algorithm\"] == \"sparse\"]\n",
    "\n",
    "\n",
    "python_measurements_GD99_b_naive = python_measurements_GD99_b[python_measurements_GD99_b[\"algorithm\"] == \"naive\"]\n",
    "python_measurements_GD99_b_strassen = python_measurements_GD99_b[python_measurements_GD99_b[\"algorithm\"] == \"strassen\"]\n",
    "python_measurements_GD99_b_sparse = python_measurements_GD99_b[python_measurements[\"algorithm\"] == \"sparse\"]\n",
    "\n",
    "\n",
    "python_measurements_can_256_naive = python_measurements_can_256[python_measurements_can_256[\"algorithm\"] == \"naive\"]\n",
    "python_measurements_can_256_strassen = python_measurements_can_256[python_measurements_can_256[\"algorithm\"] == \"strassen\"]\n",
    "python_measurements_can_256_sparse = python_measurements_can_256[python_measurements_can_256[\"algorithm\"] == \"sparse\"]\n",
    "\n",
    "\n",
    "python_measurements_dwa512_naive = python_measurements_dwa512[python_measurements_dwa512[\"algorithm\"] == \"naive\"]\n",
    "python_measurements_dwa512_strassen = python_measurements_dwa512[python_measurements_dwa512[\"algorithm\"] == \"strassen\"]\n",
    "python_measurements_dwa512_sparse = python_measurements_dwa512[python_measurements_dwa512[\"algorithm\"] == \"sparse\"]\n",
    "\n",
    "\n",
    "python_measurements_delaunay_n10_naive = python_measurements_delaunay_n10[python_measurements_delaunay_n10[\"algorithm\"] == \"naive\"]\n",
    "python_measurements_delaunay_n10_strassen = python_measurements_delaunay_n10[python_measurements_delaunay_n10[\"algorithm\"] == \"strassen\"]\n",
    "python_measurements_delaunay_n10_sparse = python_measurements_delaunay_n10[python_measurements_delaunay_n10[\"algorithm\"] == \"sparse\"]\n",
    "\n",
    "\n",
    "# cpp_measurements\n",
    "cpp_measurements_Hamrle1_naive = cpp_measurements_Hamrle1[cpp_measurements_Hamrle1[\"algorithm\"] == \"naive\"]\n",
    "cpp_measurements_Hamrle1_strassen = cpp_measurements_Hamrle1[cpp_measurements_Hamrle1[\"algorithm\"] == \"strassen\"]\n",
    "cpp_measurements_Hamrle1_sparse = cpp_measurements_Hamrle1[cpp_measurements_Hamrle1[\"algorithm\"] == \"sparse\"]\n",
    "\n",
    "\n",
    "\n",
    "cpp_measurements_GD99_b_naive = cpp_measurements_GD99_b[cpp_measurements_GD99_b[\"algorithm\"] == \"naive\"]\n",
    "cpp_measurements_GD99_b_strassen = cpp_measurements_GD99_b[cpp_measurements_GD99_b[\"algorithm\"] == \"strassen\"]\n",
    "cpp_measurements_GD99_b_sparse = cpp_measurements_GD99_b[cpp_measurements_GD99_b[\"algorithm\"] == \"sparse\"]\n",
    "\n",
    "\n",
    "cpp_measurements_can_256_naive = cpp_measurements_can_256[cpp_measurements_can_256[\"algorithm\"] == \"naive\"]\n",
    "cpp_measurements_can_256_strassen = cpp_measurements_can_256[cpp_measurements_can_256[\"algorithm\"] == \"strassen\"]\n",
    "cpp_measurements_can_256_sparse = cpp_measurements_can_256[cpp_measurements_can_256[\"algorithm\"] == \"sparse\"]\n",
    "\n",
    "\n",
    "\n",
    "cpp_measurements_dwa512_naive = cpp_measurements_dwa512[cpp_measurements_dwa512[\"algorithm\"] == \"naive\"]\n",
    "cpp_measurements_dwa512_strassen = cpp_measurements_dwa512[cpp_measurements_dwa512[\"algorithm\"] == \"strassen\"]\n",
    "cpp_measurements_dwa512_sparse = cpp_measurements_dwa512[cpp_measurements_dwa512[\"algorithm\"] == \"sparse\"]\n",
    "\n",
    "\n",
    "cpp_measurements_delaunay_n10_naive = cpp_measurements_delaunay_n10[cpp_measurements_delaunay_n10[\"algorithm\"] == \"naive\"]\n",
    "cpp_measurements_delaunay_n10_strassen = cpp_measurements_delaunay_n10[cpp_measurements_delaunay_n10[\"algorithm\"] == \"strassen\"]\n",
    "cpp_measurements_delaunay_n10_sparse = cpp_measurements_delaunay_n10[cpp_measurements_delaunay_n10[\"algorithm\"] == \"sparse\"]\n",
    "\n",
    "\n",
    "# julia_measurements\n",
    "julia_measurements_Hamrle1_naive = julia_measurements_Hamrle1[julia_measurements_Hamrle1[\"algorithm\"] == \"naive\"]\n",
    "julia_measurements_Hamrle1_strassen = julia_measurements_Hamrle1[julia_measurements_Hamrle1[\"algorithm\"] == \"strassen\"]\n",
    "julia_measurements_Hamrle1_sparse = julia_measurements_Hamrle1[julia_measurements_Hamrle1[\"algorithm\"] == \"sparse\"]\n",
    "\n",
    "\n",
    "julia_measurements_GD99_b_naive = julia_measurements_GD99_b[julia_measurements_GD99_b[\"algorithm\"] == \"naive\"]\n",
    "julia_measurements_GD99_b_strassen = julia_measurements_GD99_b[julia_measurements_GD99_b[\"algorithm\"] == \"strassen\"]\n",
    "julia_measurements_GD99_b_sparse = julia_measurements_GD99_b[julia_measurements_GD99_b[\"algorithm\"] == \"sparse\"]\n",
    "\n",
    "\n",
    "\n",
    "julia_measurements_can_256_naive = julia_measurements_can_256[julia_measurements_can_256[\"algorithm\"] == \"naive\"]\n",
    "julia_measurements_can_256_strassen = julia_measurements_can_256[julia_measurements_can_256[\"algorithm\"] == \"strassen\"]\n",
    "julia_measurements_can_256_sparse = julia_measurements_can_256[julia_measurements_can_256[\"algorithm\"] == \"sparse\"]\n",
    "\n",
    "\n",
    "julia_measurements_dwa512_naive = julia_measurements_dwa512[julia_measurements_dwa512[\"algorithm\"] == \"naive\"]\n",
    "julia_measurements_dwa512_strassen = julia_measurements_dwa512[julia_measurements_dwa512[\"algorithm\"] == \"strassen\"]\n",
    "julia_measurements_dwa512_sparse = julia_measurements_dwa512[julia_measurements_dwa512[\"algorithm\"] == \"sparse\"]\n",
    "\n",
    "\n",
    "julia_measurements_delaunay_n10_naive = julia_measurements_delaunay_n10[julia_measurements_delaunay_n10[\"algorithm\"] == \"naive\"]\n",
    "julia_measurements_delaunay_n10_strassen = julia_measurements_delaunay_n10[julia_measurements_delaunay_n10[\"algorithm\"] == \"strassen\"]\n",
    "julia_measurements_delaunay_n10_sparse = julia_measurements_delaunay_n10[julia_measurements_delaunay_n10[\"algorithm\"] == \"sparse\"]\n",
    "\n",
    "dataframe.head(1).values.flatten().tolist()\n",
    "\n",
    "# https://stackoverflow.com/questions/31037298/pandas-get-column-average-mean\n",
    "# https://www.geeksforgeeks.org/different-ways-to-create-pandas-dataframe/\n",
    "# https://www.geeksforgeeks.org/how-to-get-column-names-in-pandas-dataframe/"
   ]
  },
  {
   "cell_type": "markdown",
   "id": "sixth-workplace",
   "metadata": {},
   "source": [
    "# Conclusions"
   ]
  },
  {
   "cell_type": "code",
   "execution_count": null,
   "id": "twelve-state",
   "metadata": {},
   "outputs": [],
   "source": [
    "def traditional(matrix_one, matrix_two):\n",
    "    if len(matrix_one[0]) != len(matrix_two):\n",
    "        raise Exception(\"Matrix_one row size doesn't coincide with matrix_two column size\")\n",
    "    answer = [[0 for _ in range(len(matrix_one[0]))] * len(matrix_two)]\n",
    "    for i in range(matrix_one[0]):\n",
    "        for j in range(matrix_two):\n",
    "            for k in range(len(matrix_one[0])):\n",
    "                answer[i][j] += matrix_one[i][k] * matrix_two[k][j]\n",
    "    return answer\n",
    "\n",
    "import time\n",
    "\n",
    "def recordTime(y_axis, x_axis, func, *args, **kwargs):\n",
    "    initial = time.now()\n",
    "    func(*args, **kwargs)\n",
    "    total = time.now() - initial\n",
    "    \n",
    "def generateMatrixes():\n",
    "    pass"
   ]
  },
  {
   "cell_type": "markdown",
   "id": "orange-dominant",
   "metadata": {},
   "source": [
    "# Bibliography"
   ]
  },
  {
   "cell_type": "code",
   "execution_count": null,
   "id": "featured-public",
   "metadata": {},
   "outputs": [],
   "source": [
    "https://www.baeldung.com/cs/matrix-multiplication-algorithms\n",
    "    \n",
    "https://www.geeksforgeeks.org/strassens-matrix-multiplication/\n",
    "\n",
    "https://www.baeldung.com/cs/matrix-multiplication-algorithms"
   ]
  }
 ],
 "metadata": {
  "kernelspec": {
   "display_name": "Python 3",
   "language": "python",
   "name": "python3"
  },
  "language_info": {
   "codemirror_mode": {
    "name": "ipython",
    "version": 3
   },
   "file_extension": ".py",
   "mimetype": "text/x-python",
   "name": "python",
   "nbconvert_exporter": "python",
   "pygments_lexer": "ipython3",
   "version": "3.9.1"
  }
 },
 "nbformat": 4,
 "nbformat_minor": 5
}
